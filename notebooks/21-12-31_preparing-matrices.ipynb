{
 "cells": [
  {
   "cell_type": "code",
   "execution_count": 1,
   "id": "97f7cb31",
   "metadata": {},
   "outputs": [],
   "source": [
    "import osmnx as ox\n",
    "import geopandas as gpd\n",
    "import networkx as nx\n",
    "import pandas as pd\n",
    "from tqdm import tqdm"
   ]
  },
  {
   "cell_type": "markdown",
   "id": "de161c72",
   "metadata": {},
   "source": [
    "# Preparing the OD Matrices"
   ]
  },
  {
   "cell_type": "markdown",
   "id": "0c5cd409",
   "metadata": {},
   "source": [
    "## 1. Splitting the OD Matrix"
   ]
  },
  {
   "cell_type": "code",
   "execution_count": 2,
   "id": "23dc4e80",
   "metadata": {},
   "outputs": [],
   "source": [
    "od_matrix = pd.read_csv('../data/d02_processed-safegraph/weeks_od_us_fua.csv')"
   ]
  },
  {
   "cell_type": "markdown",
   "id": "da939a95",
   "metadata": {},
   "source": [
    "First we will split the od_matrix into multiple dataframes based on the FUA area and save each of them:"
   ]
  },
  {
   "cell_type": "code",
   "execution_count": 3,
   "id": "ae2646e2",
   "metadata": {},
   "outputs": [],
   "source": [
    "od_matrix_dict = {fua: df for fua, df in od_matrix.groupby('fuacode')}"
   ]
  },
  {
   "cell_type": "code",
   "execution_count": null,
   "id": "26daead2",
   "metadata": {},
   "outputs": [],
   "source": [
    "for fua_code, df in od_matrix_dict.items():\n",
    "    df.to_csv('../data/d02_processed-safegraph/OD-per-FUA/' + fua_code+'_ODmatrix.csv')"
   ]
  },
  {
   "cell_type": "markdown",
   "id": "6570d19b",
   "metadata": {},
   "source": [
    "## 2. Get all the Safegraph Represented FUAs"
   ]
  },
  {
   "cell_type": "markdown",
   "id": "80e2d9e2",
   "metadata": {},
   "source": [
    "We will get a list of all FUA codes that we need to work with for bookkeeping and for running the bash scripts from arrays."
   ]
  },
  {
   "cell_type": "code",
   "execution_count": 4,
   "id": "c91bd168",
   "metadata": {},
   "outputs": [],
   "source": [
    "fua_codes = list(set(od_matrix.fuacode.dropna().values))\n",
    "def num(code):\n",
    "    return int(code[3:])\n",
    "fua_codes.sort(key=num)"
   ]
  },
  {
   "cell_type": "markdown",
   "id": "ae4803e4",
   "metadata": {},
   "source": [
    "Save the numbers so we do not have to open the big dataframe again and can use in the sbatch array. Experimentally I observed that later-numbered FUAs seem to be smaller. So it makes sense to put those first:"
   ]
  },
  {
   "cell_type": "code",
   "execution_count": 5,
   "id": "81158ce5",
   "metadata": {},
   "outputs": [],
   "source": [
    "outfile = open('../data/d02_processed-safegraph/safegraph_fua.txt', 'w')\n",
    "print('\\n'.join(str(i) for i in fua_codes[::-1]), file=outfile)\n",
    "outfile.close()"
   ]
  },
  {
   "cell_type": "markdown",
   "id": "2c0e6c6f",
   "metadata": {},
   "source": [
    "## 3. Getting Preferred Network and Nearest Nodes"
   ]
  },
  {
   "cell_type": "markdown",
   "id": "70e97254",
   "metadata": {},
   "source": [
    "The function that does the job:"
   ]
  },
  {
   "cell_type": "code",
   "execution_count": 6,
   "id": "7cac7c7c",
   "metadata": {},
   "outputs": [],
   "source": [
    "def get_expanded_OD(fua_code, threshold=2000):\n",
    "    print('FUA: ', fua_code)\n",
    "    if fua_code not in ['USA02', 'USA56']:\n",
    "        #Get the files:\n",
    "        od_matrix = pd.read_csv('../data/d02_processed-safegraph/OD-per-FUA/'+fua_code+'_ODmatrix.csv').drop(['Unnamed: 0'], axis=1)\n",
    "        walk_graph = ox.project_graph(ox.load_graphml('../data/d03_intermediate/FUA-networks/walk/'+fua_code+'.graphml'), to_crs='EPSG:5070')\n",
    "        drive_graph = ox.project_graph(ox.load_graphml('../data/d03_intermediate/FUA-networks/drive/'+fua_code+'.graphml'), to_crs='EPSG:5070')\n",
    "        print('  got all files')\n",
    "        \n",
    "        #Get the geometries of origin and destinations:\n",
    "        places_pt = gpd.points_from_xy(x= od_matrix.longitude, y=od_matrix.latitude, crs='EPSG:4326').to_crs('EPSG:5070')\n",
    "        centroids_pt = gpd.points_from_xy(x= od_matrix.intptlon, y=od_matrix.intptlat, crs='EPSG:4326').to_crs('EPSG:5070')\n",
    "\n",
    "        od_matrix['origin_x'], od_matrix['origin_y'] = centroids_pt.x, centroids_pt.y\n",
    "        od_matrix['dest_x'], od_matrix['dest_y'] = places_pt.x, places_pt.y\n",
    "\n",
    "        #Get the Boolean value of whether we walk or drive:\n",
    "        od_matrix['walk'] = places_pt.distance(centroids_pt) <= threshold\n",
    "        print('  got preferred mode')\n",
    "\n",
    "        #Now we split the dataframe into two (one for walking and one for driving):\n",
    "        od_matrix_dict = {walk: df for walk, df in od_matrix.groupby('walk')}\n",
    "        G = {False: drive_graph, True: walk_graph}\n",
    "\n",
    "        #For each of those dataframes, we do nearest nodes from OSMnx on the appropriate graph:\n",
    "        full_dfs = []\n",
    "        for walk, df in od_matrix_dict.items():\n",
    "            df['origin_node'] = ox.nearest_nodes(G[walk], df['origin_x'], df['origin_y'])\n",
    "            df['destination_node'] = ox.nearest_nodes(G[walk], df['dest_x'], df['dest_y'])\n",
    "            #HERE WE CAN GET THE DISTANCE AS WELL! This step is further detailed in the script\n",
    "            full_dfs.append(df)\n",
    "\n",
    "        merged_df = pd.concat(full_dfs, ignore_index=True)\n",
    "        expanded_OD = merged_df.drop(['origin_x', 'origin_y', 'dest_x', 'dest_y'], axis=1)\n",
    "        print('  got expanded matrix')\n",
    "        \n",
    "        expanded_OD.to_csv('../data/d04_final-OD-matrices/OD-per-FUA_nodistance/' + fua_code+'_expanded_nodistance-ODmatrix.csv')\n",
    "        print('  saved')\n",
    "    \n",
    "    else:\n",
    "        expanded_OD = None\n",
    "        \n",
    "    return expanded_OD"
   ]
  },
  {
   "cell_type": "markdown",
   "id": "cea25358",
   "metadata": {},
   "source": [
    "This will be ran in the cluster with multiple cores for the osmnx distance function"
   ]
  },
  {
   "cell_type": "code",
   "execution_count": null,
   "id": "33c52d84",
   "metadata": {},
   "outputs": [],
   "source": [
    "for fua in tqdm(fua_codes):\n",
    "    expanded_OD = get_expanded_OD(fua)"
   ]
  },
  {
   "cell_type": "markdown",
   "id": "8a104568",
   "metadata": {},
   "source": [
    "Note that we could first run this script to get all the extended matrices (with closest nodes and mode of commute but no distances). This however would save us little time: those operations take around 1-3 minutes only for each FUA."
   ]
  },
  {
   "cell_type": "code",
   "execution_count": null,
   "id": "e8c70601",
   "metadata": {},
   "outputs": [],
   "source": []
  }
 ],
 "metadata": {
  "kernelspec": {
   "display_name": "Python 3 (ipykernel)",
   "language": "python",
   "name": "python3"
  },
  "language_info": {
   "codemirror_mode": {
    "name": "ipython",
    "version": 3
   },
   "file_extension": ".py",
   "mimetype": "text/x-python",
   "name": "python",
   "nbconvert_exporter": "python",
   "pygments_lexer": "ipython3",
   "version": "3.9.7"
  }
 },
 "nbformat": 4,
 "nbformat_minor": 5
}
