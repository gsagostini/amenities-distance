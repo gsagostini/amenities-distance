{
 "cells": [
  {
   "cell_type": "code",
   "execution_count": 1,
   "id": "88cfd96c-0ed1-4264-8070-d901e0a08c2f",
   "metadata": {},
   "outputs": [],
   "source": [
    "import osmnx as ox\n",
    "import geopandas as gpd\n",
    "import networkx as nx\n",
    "import pandas as pd\n",
    "from tqdm import tqdm"
   ]
  },
  {
   "cell_type": "markdown",
   "id": "e6b5c4c8-d8a2-4d14-822e-33147ad84634",
   "metadata": {},
   "source": [
    "# Preparing the OD Matrices"
   ]
  },
  {
   "cell_type": "markdown",
   "id": "b2f880aa-5afc-4591-b73d-9b62bdb9056a",
   "metadata": {},
   "source": [
    "## 1. Splitting the OD Matrix"
   ]
  },
  {
   "cell_type": "code",
   "execution_count": 3,
   "id": "b8cbf90e-af7f-4097-9741-90cc32822f5d",
   "metadata": {},
   "outputs": [],
   "source": [
    "od_matrix = pd.read_csv('../data/d02_processed-safegraph/weeks_od_us_fua.csv')"
   ]
  },
  {
   "cell_type": "markdown",
   "id": "5238584f-a282-4a6b-b901-84f2de5b1c23",
   "metadata": {},
   "source": [
    "First we will split the od_matrix into multiple dataframes based on the FUA area and save each of them:"
   ]
  },
  {
   "cell_type": "code",
   "execution_count": 4,
   "id": "5a4a0f43-3350-4b10-94bb-b2f4633fef2a",
   "metadata": {},
   "outputs": [],
   "source": [
    "od_matrix_dict = {fua: df for fua, df in od_matrix.groupby('fuacode')}"
   ]
  },
  {
   "cell_type": "code",
   "execution_count": null,
   "id": "4bca9a54-472a-4171-9c67-99ab89bcc722",
   "metadata": {},
   "outputs": [],
   "source": [
    "for fua_code, df in od_matrix_dict.items():\n",
    "    df.to_csv('../data/d02_processed-safegraph/OD-per-FUA/' + fua_code+'_ODmatrix.csv')"
   ]
  },
  {
   "cell_type": "markdown",
   "id": "b3d9df10-2867-4ae6-b650-7f65b4949ea3",
   "metadata": {},
   "source": [
    "## 2. Get all the Safegraph Represented FUAs"
   ]
  },
  {
   "cell_type": "code",
   "execution_count": 5,
   "id": "d2b27c4f-4192-4e8e-91d9-403ee934009b",
   "metadata": {},
   "outputs": [],
   "source": [
    "fua_codes = list(set(od_matrix.fuacode.dropna().values))\n",
    "def num(code):\n",
    "    return int(code[3:])\n",
    "fua_codes.sort(key=num)"
   ]
  },
  {
   "cell_type": "markdown",
   "id": "3c0fc8f1-e82b-4c81-b970-f7fbcaab8eb7",
   "metadata": {},
   "source": [
    "Save it so we do not have to open the big dataframe again:"
   ]
  },
  {
   "cell_type": "code",
   "execution_count": 6,
   "id": "7e84816e-b70d-42df-861a-ee416cc705d6",
   "metadata": {},
   "outputs": [],
   "source": [
    "outfile = open('../data/d02_processed-safegraph/safegraph_fua.txt', 'w')\n",
    "print(','.join(str(i) for i in fua_codes), file=outfile)\n",
    "outfile.close()"
   ]
  },
  {
   "cell_type": "markdown",
   "id": "cd133e53-e6c8-41ae-9663-0e6619a8fc43",
   "metadata": {},
   "source": [
    "## 3. Getting Preferred Network and Nearest Nodes"
   ]
  },
  {
   "cell_type": "markdown",
   "id": "cc91bc34-0c4c-4550-ab6e-b5de406c1793",
   "metadata": {},
   "source": [
    "The function that does the job:"
   ]
  },
  {
   "cell_type": "code",
   "execution_count": 7,
   "id": "90d116a6-ec44-46e4-97a7-54deb3e5a50b",
   "metadata": {},
   "outputs": [],
   "source": [
    "def get_expanded_OD(fua_code, threshold=2000):\n",
    "    print('FUA: ', fua_code)\n",
    "    if fua_code not in ['USA02', 'USA56']:\n",
    "        #Get the files:\n",
    "        od_matrix = pd.read_csv('../data/d02_processed-safegraph/OD-per-FUA/'+fua_code+'_ODmatrix.csv').drop(['Unnamed: 0'], axis=1)\n",
    "        walk_graph = ox.project_graph(ox.load_graphml('../data/d03_intermediate/FUA-networks/walk/'+fua_code+'.graphml'), to_crs='EPSG:5070')\n",
    "        drive_graph = ox.project_graph(ox.load_graphml('../data/d03_intermediate/FUA-networks/drive/'+fua_code+'.graphml'), to_crs='EPSG:5070')\n",
    "        print('  got all files')\n",
    "        \n",
    "        #Get the geometries of origin and destinations:\n",
    "        places_pt = gpd.points_from_xy(x= od_matrix.longitude, y=od_matrix.latitude, crs='EPSG:4326').to_crs('EPSG:5070')\n",
    "        centroids_pt = gpd.points_from_xy(x= od_matrix.intptlon, y=od_matrix.intptlat, crs='EPSG:4326').to_crs('EPSG:5070')\n",
    "\n",
    "        od_matrix['origin_x'], od_matrix['origin_y'] = centroids_pt.x, centroids_pt.y\n",
    "        od_matrix['dest_x'], od_matrix['dest_y'] = places_pt.x, places_pt.y\n",
    "\n",
    "        #Get the Boolean value of whether we walk or drive:\n",
    "        od_matrix['walk'] = places_pt.distance(centroids_pt) <= threshold\n",
    "        print('  got preferred mode')\n",
    "\n",
    "        #Now we split the dataframe into two (one for walking and one for driving):\n",
    "        od_matrix_dict = {walk: df for walk, df in od_matrix.groupby('walk')}\n",
    "        G = {False: drive_graph, True: walk_graph}\n",
    "\n",
    "        #For each of those dataframes, we do nearest nodes from OSMnx on the appropriate graph:\n",
    "        full_dfs = []\n",
    "        for walk, df in od_matrix_dict.items():\n",
    "            df['origin_node'] = ox.nearest_nodes(G[walk], df['origin_x'], df['origin_y'])\n",
    "            df['destination_node'] = ox.nearest_nodes(G[walk], df['dest_x'], df['dest_y'])\n",
    "            full_dfs.append(df)\n",
    "\n",
    "        merged_df = pd.concat(full_dfs, ignore_index=True)\n",
    "        expanded_OD = merged_df.drop(['origin_x', 'origin_y', 'dest_x', 'dest_y'], axis=1)\n",
    "        print('  got expanded matrix')\n",
    "        \n",
    "        expanded_OD.to_csv('../data/d04_final-OD-matrices/OD-per-FUA_nodistance/' + fua_code+'_expanded_nodistance-ODmatrix.csv')\n",
    "        print('  saved')\n",
    "    \n",
    "    else:\n",
    "        expanded_OD = None\n",
    "        \n",
    "    return expanded_OD"
   ]
  },
  {
   "cell_type": "code",
   "execution_count": null,
   "id": "4803da8a-6af3-419c-896d-88a8e0379eeb",
   "metadata": {},
   "outputs": [],
   "source": [
    "for fua in tqdm(fua_codes):\n",
    "    expanded_OD = get_expanded_OD(fua)"
   ]
  }
 ],
 "metadata": {
  "kernelspec": {
   "display_name": "Python 3 (ipykernel)",
   "language": "python",
   "name": "python3"
  },
  "language_info": {
   "codemirror_mode": {
    "name": "ipython",
    "version": 3
   },
   "file_extension": ".py",
   "mimetype": "text/x-python",
   "name": "python",
   "nbconvert_exporter": "python",
   "pygments_lexer": "ipython3",
   "version": "3.9.7"
  }
 },
 "nbformat": 4,
 "nbformat_minor": 5
}
