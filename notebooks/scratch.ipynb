{
 "cells": [
  {
   "cell_type": "code",
   "execution_count": 1,
   "id": "0dfb6d1f-bf54-44a1-8c85-42d3ef61da6d",
   "metadata": {},
   "outputs": [],
   "source": [
    "import osmnx as ox\n",
    "import geopandas as gpd"
   ]
  },
  {
   "cell_type": "code",
   "execution_count": null,
   "id": "b7afa2aa-7897-414b-babf-63bb2c1d6f62",
   "metadata": {},
   "outputs": [],
   "source": []
  },
  {
   "cell_type": "code",
   "execution_count": 4,
   "id": "40a7af33-ddd2-4884-b481-970286e5ce20",
   "metadata": {},
   "outputs": [],
   "source": [
    "us_ufa = gpd.read_file('../data/d01_raw/FUA shapefiles/USA_core_commuting.shx')\n",
    "boston_ufa = us_ufa.loc[us_ufa['fuaname'] == 'Boston'].reset_index()"
   ]
  },
  {
   "cell_type": "code",
   "execution_count": 8,
   "id": "5af356f6-18a1-4814-a52e-b9621bb8fd6c",
   "metadata": {},
   "outputs": [],
   "source": [
    "boston_ufa = us_ufa.loc[us_ufa['fuaname'] == 'Boston'].reset_index()"
   ]
  },
  {
   "cell_type": "code",
   "execution_count": 9,
   "id": "24213790-f8e4-45b5-8629-3a7e04202b40",
   "metadata": {},
   "outputs": [
    {
     "data": {
      "text/plain": [
       "<AxesSubplot:>"
      ]
     },
     "execution_count": 9,
     "metadata": {},
     "output_type": "execute_result"
    },
    {
     "data": {
      "image/png": "[encoded data removed]",
      "text/plain": [
       "<Figure size 432x288 with 1 Axes>"
      ]
     },
     "metadata": {
      "needs_background": "light"
     },
     "output_type": "display_data"
    }
   ],
   "source": [
    "boston_ufa.plot()"
   ]
  },
  {
   "cell_type": "markdown",
   "id": "78dfd2a3-4d10-4c84-86d3-5d243c0900e8",
   "metadata": {},
   "source": [
    "Old code to convert latlong points to nodes in the graph (do not need that step)"
   ]
  },
  {
   "cell_type": "code",
   "execution_count": null,
   "id": "afab918e-55bc-4be6-983b-7efe012a72c4",
   "metadata": {},
   "outputs": [],
   "source": [
    "#from shapely.geometry import Point\n",
    "#\n",
    "## turn lat/lng lists into list of shapely points\n",
    "#origin_longs, origin_lats = boston_od_df.intptlon.values, boston_od_df.intptlat.values\n",
    "#dest_longs, dest_lats = boston_od_df.longitude.values, boston_od_df.latitude.values\n",
    "#\n",
    "#origin_pts_list = [Point((lng, lat)) for lng,lat in zip(origin_longs, origin_lats)]\n",
    "#dest_pts_list = [Point((lng, lat)) for lng,lat in zip(dest_longs, dest_lats)]\n",
    "#\n",
    "##then turn list into GeoSeries:\n",
    "#origin_pts = gpd.GeoSeries(origin_pts_list, crs='epsg:4326')\n",
    "#dest_pts = gpd.GeoSeries(dest_pts_list, crs='epsg:4326')\n",
    "#\n",
    "##convert to graph crs:\n",
    "#origin_pts_proj = origin_pts.to_crs(boston_walk_graph_proj.graph['crs'])\n",
    "#dest_pts_proj = dest_pts.to_crs(boston_walk_graph_proj.graph['crs'])\n",
    "\n",
    "#We do not need to do that step. The nearest nodes function already converts the lat long if we use the unprojected graph, which is less prone to mistake."
   ]
  },
  {
   "cell_type": "markdown",
   "id": "198165a2-b803-46f1-97ee-cf80bf0f0c38",
   "metadata": {},
   "source": [
    "Checking what fuas we already have:"
   ]
  },
  {
   "cell_type": "code",
   "execution_count": 14,
   "id": "79e12c7d-7c39-4f93-a58b-fe58fbee3ceb",
   "metadata": {},
   "outputs": [],
   "source": [
    "with open('../output.txt') as f:\n",
    "    f_lines = f.readlines()\n",
    "    good_fuas = [line.split('_')[0] for line in f_lines[1:]]\n",
    "\n",
    "with open('../data/d02_processed-safegraph/safegraph_fua.txt') as g:\n",
    "    g_lines = g.readlines()\n",
    "    all_fuas = [line.split('_')[0].strip('\\n') for line in g_lines]\n",
    "    \n",
    "\n",
    "def num(code):\n",
    "    return int(code[3:])\n",
    "\n",
    "good_fuas.sort(key=num)\n",
    "all_fuas.sort(key=num)"
   ]
  },
  {
   "cell_type": "code",
   "execution_count": 19,
   "id": "9f305a65-c3e5-40a9-9a69-cc9c144a8457",
   "metadata": {},
   "outputs": [],
   "source": [
    "remaining = list(set(all_fuas) - set(good_fuas))\n",
    "remaining.sort(key=num)"
   ]
  },
  {
   "cell_type": "code",
   "execution_count": 20,
   "id": "430daeec-2a46-4184-9c6f-cbd33ca5fd02",
   "metadata": {},
   "outputs": [
    {
     "data": {
      "text/plain": [
       "['USA01', 'USA02', 'USA03', 'USA04', 'USA07', 'USA08', 'USA12', 'USA56']"
      ]
     },
     "execution_count": 20,
     "metadata": {},
     "output_type": "execute_result"
    }
   ],
   "source": [
    "remaining"
   ]
  },
  {
   "cell_type": "code",
   "execution_count": 21,
   "id": "b9b6f282-0594-411c-b8df-473f8823021e",
   "metadata": {},
   "outputs": [],
   "source": [
    "outfile = open('../src/second_run.txt', 'w')\n",
    "print('\\n'.join(str(i) for i in remaining), file=outfile)\n",
    "outfile.close()"
   ]
  },
  {
   "cell_type": "code",
   "execution_count": 1,
   "id": "cdfcce02-0dd8-4067-abaa-017812f54863",
   "metadata": {},
   "outputs": [],
   "source": [
    "import osmnx as ox\n",
    "import geopandas as gpd\n",
    "import networkx as nx\n",
    "import pandas as pd\n",
    "import matplotlib.pyplot as plt\n",
    "from tqdm import tqdm"
   ]
  },
  {
   "cell_type": "code",
   "execution_count": 2,
   "id": "f49cd6ae-a05e-46df-9a1d-4628eb14157a",
   "metadata": {},
   "outputs": [],
   "source": [
    "od_matrix = pd.read_csv('../data/d02_processed-safegraph/weeks_od_us_fua.csv')"
   ]
  },
  {
   "cell_type": "code",
   "execution_count": 6,
   "id": "9fbf0a9b-1a81-46a2-a7aa-442e6878e187",
   "metadata": {},
   "outputs": [
    {
     "data": {
      "text/html": [
       "<div>\n",
       "<style scoped>\n",
       "    .dataframe tbody tr th:only-of-type {\n",
       "        vertical-align: middle;\n",
       "    }\n",
       "\n",
       "    .dataframe tbody tr th {\n",
       "        vertical-align: top;\n",
       "    }\n",
       "\n",
       "    .dataframe thead th {\n",
       "        text-align: right;\n",
       "    }\n",
       "</style>\n",
       "<table border=\"1\" class=\"dataframe\">\n",
       "  <thead>\n",
       "    <tr style=\"text-align: right;\">\n",
       "      <th></th>\n",
       "      <th>safegraph_place_id</th>\n",
       "      <th>census_block_group</th>\n",
       "      <th>top_category</th>\n",
       "      <th>latitude</th>\n",
       "      <th>longitude</th>\n",
       "      <th>fuacode</th>\n",
       "      <th>intptlat</th>\n",
       "      <th>intptlon</th>\n",
       "    </tr>\n",
       "  </thead>\n",
       "  <tbody>\n",
       "    <tr>\n",
       "      <th>0</th>\n",
       "      <td>sg:001855be013b421688f5f8c2e724d076</td>\n",
       "      <td>550250114021</td>\n",
       "      <td>Restaurants and Other Eating Places</td>\n",
       "      <td>43.172181</td>\n",
       "      <td>-89.265802</td>\n",
       "      <td>USA80</td>\n",
       "      <td>43.126509</td>\n",
       "      <td>-89.271130</td>\n",
       "    </tr>\n",
       "    <tr>\n",
       "      <th>1</th>\n",
       "      <td>sg:001855be013b421688f5f8c2e724d076</td>\n",
       "      <td>550250022003</td>\n",
       "      <td>Restaurants and Other Eating Places</td>\n",
       "      <td>43.172181</td>\n",
       "      <td>-89.265802</td>\n",
       "      <td>USA80</td>\n",
       "      <td>43.120499</td>\n",
       "      <td>-89.366947</td>\n",
       "    </tr>\n",
       "    <tr>\n",
       "      <th>2</th>\n",
       "      <td>sg:001855be013b421688f5f8c2e724d076</td>\n",
       "      <td>550250115032</td>\n",
       "      <td>Restaurants and Other Eating Places</td>\n",
       "      <td>43.172181</td>\n",
       "      <td>-89.265802</td>\n",
       "      <td>USA80</td>\n",
       "      <td>43.201220</td>\n",
       "      <td>-89.244345</td>\n",
       "    </tr>\n",
       "    <tr>\n",
       "      <th>3</th>\n",
       "      <td>sg:001855be013b421688f5f8c2e724d076</td>\n",
       "      <td>550250118001</td>\n",
       "      <td>Restaurants and Other Eating Places</td>\n",
       "      <td>43.172181</td>\n",
       "      <td>-89.265802</td>\n",
       "      <td>USA80</td>\n",
       "      <td>43.214106</td>\n",
       "      <td>-89.098972</td>\n",
       "    </tr>\n",
       "    <tr>\n",
       "      <th>4</th>\n",
       "      <td>sg:001855be013b421688f5f8c2e724d076</td>\n",
       "      <td>551050029003</td>\n",
       "      <td>Restaurants and Other Eating Places</td>\n",
       "      <td>43.172181</td>\n",
       "      <td>-89.265802</td>\n",
       "      <td>USA80</td>\n",
       "      <td>42.783193</td>\n",
       "      <td>-89.312406</td>\n",
       "    </tr>\n",
       "    <tr>\n",
       "      <th>...</th>\n",
       "      <td>...</td>\n",
       "      <td>...</td>\n",
       "      <td>...</td>\n",
       "      <td>...</td>\n",
       "      <td>...</td>\n",
       "      <td>...</td>\n",
       "      <td>...</td>\n",
       "      <td>...</td>\n",
       "    </tr>\n",
       "    <tr>\n",
       "      <th>39488</th>\n",
       "      <td>sg:99688b865e1a4daa954a97821eb8318e</td>\n",
       "      <td>550659701001</td>\n",
       "      <td>Museums, Historical Sites, and Similar Institu...</td>\n",
       "      <td>43.038467</td>\n",
       "      <td>-89.502189</td>\n",
       "      <td>USA80</td>\n",
       "      <td>42.784017</td>\n",
       "      <td>-89.892506</td>\n",
       "    </tr>\n",
       "    <tr>\n",
       "      <th>39489</th>\n",
       "      <td>sg:99688b865e1a4daa954a97821eb8318e</td>\n",
       "      <td>550250004072</td>\n",
       "      <td>Museums, Historical Sites, and Similar Institu...</td>\n",
       "      <td>43.038467</td>\n",
       "      <td>-89.502189</td>\n",
       "      <td>USA80</td>\n",
       "      <td>43.040396</td>\n",
       "      <td>-89.499626</td>\n",
       "    </tr>\n",
       "    <tr>\n",
       "      <th>39490</th>\n",
       "      <td>sg:99688b865e1a4daa954a97821eb8318e</td>\n",
       "      <td>550250010002</td>\n",
       "      <td>Museums, Historical Sites, and Similar Institu...</td>\n",
       "      <td>43.038467</td>\n",
       "      <td>-89.502189</td>\n",
       "      <td>USA80</td>\n",
       "      <td>43.054659</td>\n",
       "      <td>-89.435171</td>\n",
       "    </tr>\n",
       "    <tr>\n",
       "      <th>39491</th>\n",
       "      <td>sg:99688b865e1a4daa954a97821eb8318e</td>\n",
       "      <td>550250006001</td>\n",
       "      <td>Museums, Historical Sites, and Similar Institu...</td>\n",
       "      <td>43.038467</td>\n",
       "      <td>-89.502189</td>\n",
       "      <td>USA80</td>\n",
       "      <td>43.032810</td>\n",
       "      <td>-89.452007</td>\n",
       "    </tr>\n",
       "    <tr>\n",
       "      <th>39492</th>\n",
       "      <td>sg:99688b865e1a4daa954a97821eb8318e</td>\n",
       "      <td>550250005033</td>\n",
       "      <td>Museums, Historical Sites, and Similar Institu...</td>\n",
       "      <td>43.038467</td>\n",
       "      <td>-89.502189</td>\n",
       "      <td>USA80</td>\n",
       "      <td>43.019384</td>\n",
       "      <td>-89.491340</td>\n",
       "    </tr>\n",
       "  </tbody>\n",
       "</table>\n",
       "<p>39493 rows × 8 columns</p>\n",
       "</div>"
      ],
      "text/plain": [
       "                        safegraph_place_id  census_block_group  \\\n",
       "0      sg:001855be013b421688f5f8c2e724d076        550250114021   \n",
       "1      sg:001855be013b421688f5f8c2e724d076        550250022003   \n",
       "2      sg:001855be013b421688f5f8c2e724d076        550250115032   \n",
       "3      sg:001855be013b421688f5f8c2e724d076        550250118001   \n",
       "4      sg:001855be013b421688f5f8c2e724d076        551050029003   \n",
       "...                                    ...                 ...   \n",
       "39488  sg:99688b865e1a4daa954a97821eb8318e        550659701001   \n",
       "39489  sg:99688b865e1a4daa954a97821eb8318e        550250004072   \n",
       "39490  sg:99688b865e1a4daa954a97821eb8318e        550250010002   \n",
       "39491  sg:99688b865e1a4daa954a97821eb8318e        550250006001   \n",
       "39492  sg:99688b865e1a4daa954a97821eb8318e        550250005033   \n",
       "\n",
       "                                            top_category   latitude  \\\n",
       "0                    Restaurants and Other Eating Places  43.172181   \n",
       "1                    Restaurants and Other Eating Places  43.172181   \n",
       "2                    Restaurants and Other Eating Places  43.172181   \n",
       "3                    Restaurants and Other Eating Places  43.172181   \n",
       "4                    Restaurants and Other Eating Places  43.172181   \n",
       "...                                                  ...        ...   \n",
       "39488  Museums, Historical Sites, and Similar Institu...  43.038467   \n",
       "39489  Museums, Historical Sites, and Similar Institu...  43.038467   \n",
       "39490  Museums, Historical Sites, and Similar Institu...  43.038467   \n",
       "39491  Museums, Historical Sites, and Similar Institu...  43.038467   \n",
       "39492  Museums, Historical Sites, and Similar Institu...  43.038467   \n",
       "\n",
       "       longitude fuacode   intptlat   intptlon  \n",
       "0     -89.265802   USA80  43.126509 -89.271130  \n",
       "1     -89.265802   USA80  43.120499 -89.366947  \n",
       "2     -89.265802   USA80  43.201220 -89.244345  \n",
       "3     -89.265802   USA80  43.214106 -89.098972  \n",
       "4     -89.265802   USA80  42.783193 -89.312406  \n",
       "...          ...     ...        ...        ...  \n",
       "39488 -89.502189   USA80  42.784017 -89.892506  \n",
       "39489 -89.502189   USA80  43.040396 -89.499626  \n",
       "39490 -89.502189   USA80  43.054659 -89.435171  \n",
       "39491 -89.502189   USA80  43.032810 -89.452007  \n",
       "39492 -89.502189   USA80  43.019384 -89.491340  \n",
       "\n",
       "[39493 rows x 8 columns]"
      ]
     },
     "execution_count": 6,
     "metadata": {},
     "output_type": "execute_result"
    }
   ],
   "source": [
    "od_matrix[od_matrix.fuacode=='USA80'].reset_index(drop=True)"
   ]
  },
  {
   "cell_type": "code",
   "execution_count": null,
   "id": "f3c151a0-734c-4ec5-89c5-fdd1297cb8a6",
   "metadata": {},
   "outputs": [],
   "source": []
  }
 ],
 "metadata": {
  "kernelspec": {
   "display_name": "Python 3 (ipykernel)",
   "language": "python",
   "name": "python3"
  },
  "language_info": {
   "codemirror_mode": {
    "name": "ipython",
    "version": 3
   },
   "file_extension": ".py",
   "mimetype": "text/x-python",
   "name": "python",
   "nbconvert_exporter": "python",
   "pygments_lexer": "ipython3",
   "version": "3.9.7"
  }
 },
 "nbformat": 4,
 "nbformat_minor": 5
}
