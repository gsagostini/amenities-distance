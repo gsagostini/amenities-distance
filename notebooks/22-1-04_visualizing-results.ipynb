{
 "cells": [
  {
   "cell_type": "code",
   "execution_count": 47,
   "metadata": {},
   "outputs": [],
   "source": [
    "import osmnx as ox\n",
    "import pandas as pd\n",
    "import geopandas as gpd\n",
    "import matplotlib.pyplot as plt\n",
    "from tqdm import tqdm"
   ]
  },
  {
   "cell_type": "markdown",
   "metadata": {},
   "source": [
    "# Checking our Results"
   ]
  },
  {
   "cell_type": "markdown",
   "metadata": {},
   "source": [
    "In this notebook we will try to see how the distances we obtained look like on the map of the FUA."
   ]
  },
  {
   "cell_type": "markdown",
   "metadata": {},
   "source": [
    "## 1. Getting the files"
   ]
  },
  {
   "cell_type": "markdown",
   "metadata": {},
   "source": [
    "Known issue: the OD matrices have two extra columns (unnamed 0 and unnamed 0.1) due to droping indices while saving along the way. i will fix this later but for now we can just drop the columns as we load the matrices"
   ]
  },
  {
   "cell_type": "code",
   "execution_count": 4,
   "metadata": {},
   "outputs": [],
   "source": [
    "def get_files(fua_code):\n",
    "    \n",
    "    buffered_boundary = gpd.read_file('../data/d03_intermediate/FUA-buffered-shapefile/FUA-buffered.shp').set_index('fuacode').loc[[fua_code]]\n",
    "    walk_graph = ox.load_graphml('../data/d03_intermediate/FUA-networks/walk/'+fua_code+'.graphml')\n",
    "    drive_graph = ox.load_graphml('../data/d03_intermediate/FUA-networks/drive/'+fua_code+'.graphml')\n",
    "    OD_matrix = pd.read_csv('../data/d04_final-OD-matrices/'+fua_code+'_ODmatrix.csv').drop(['Unnamed: 0'], axis=1)\n",
    "    \n",
    "    return buffered_boundary, walk_graph, drive_graph, OD_matrix"
   ]
  },
  {
   "cell_type": "markdown",
   "metadata": {},
   "source": [
    " We will use two functional urban areas as example: FUA80 and FUA81."
   ]
  },
  {
   "cell_type": "code",
   "execution_count": 5,
   "metadata": {},
   "outputs": [],
   "source": [
    "buffered_boundary_80, walk_graph_80, drive_graph_80, OD_matrix_80 = get_files('USA80')\n",
    "buffered_boundary_81, walk_graph_81, drive_graph_81, OD_matrix_81 = get_files('USA81')"
   ]
  },
  {
   "cell_type": "markdown",
   "metadata": {},
   "source": [
    "And for Boston:"
   ]
  },
  {
   "cell_type": "code",
   "execution_count": 14,
   "metadata": {},
   "outputs": [],
   "source": [
    "buffered_boundary_boston, walk_graph_boston, drive_graph_boston, OD_matrix_boston = get_files('USA11')"
   ]
  },
  {
   "cell_type": "markdown",
   "metadata": {},
   "source": [
    "These OD matrices will have columns telling us whether the commute was made by walking or driving (note that we concatatenated the datafames of walking and driving vertically so that all the driving come first), columns with the OSMid of the closest node in the correponding network, and the distance in meters"
   ]
  },
  {
   "cell_type": "code",
   "execution_count": 15,
   "metadata": {},
   "outputs": [
    {
     "data": {
      "text/html": [
       "<div>\n",
       "<style scoped>\n",
       "    .dataframe tbody tr th:only-of-type {\n",
       "        vertical-align: middle;\n",
       "    }\n",
       "\n",
       "    .dataframe tbody tr th {\n",
       "        vertical-align: top;\n",
       "    }\n",
       "\n",
       "    .dataframe thead th {\n",
       "        text-align: right;\n",
       "    }\n",
       "</style>\n",
       "<table border=\"1\" class=\"dataframe\">\n",
       "  <thead>\n",
       "    <tr style=\"text-align: right;\">\n",
       "      <th></th>\n",
       "      <th>safegraph_place_id</th>\n",
       "      <th>census_block_group</th>\n",
       "      <th>top_category</th>\n",
       "      <th>latitude</th>\n",
       "      <th>longitude</th>\n",
       "      <th>fuacode</th>\n",
       "      <th>intptlat</th>\n",
       "      <th>intptlon</th>\n",
       "      <th>mode</th>\n",
       "      <th>origin_node</th>\n",
       "      <th>origin_node_dist</th>\n",
       "      <th>destination_node</th>\n",
       "      <th>destination_node_dist</th>\n",
       "      <th>distance</th>\n",
       "    </tr>\n",
       "  </thead>\n",
       "  <tbody>\n",
       "    <tr>\n",
       "      <th>0</th>\n",
       "      <td>sg:00003112338041738d01a3e3bb13ea68</td>\n",
       "      <td>250173353022</td>\n",
       "      <td>Religious Organizations</td>\n",
       "      <td>42.566885</td>\n",
       "      <td>-70.934055</td>\n",
       "      <td>USA11</td>\n",
       "      <td>42.505953</td>\n",
       "      <td>-71.050532</td>\n",
       "      <td>drive</td>\n",
       "      <td>69023280</td>\n",
       "      <td>94.781506</td>\n",
       "      <td>65586646</td>\n",
       "      <td>43.107231</td>\n",
       "      <td>14291.359</td>\n",
       "    </tr>\n",
       "    <tr>\n",
       "      <th>1</th>\n",
       "      <td>sg:00003112338041738d01a3e3bb13ea68</td>\n",
       "      <td>250092176001</td>\n",
       "      <td>Religious Organizations</td>\n",
       "      <td>42.566885</td>\n",
       "      <td>-70.934055</td>\n",
       "      <td>USA11</td>\n",
       "      <td>42.585500</td>\n",
       "      <td>-70.838971</td>\n",
       "      <td>drive</td>\n",
       "      <td>69503804</td>\n",
       "      <td>111.915891</td>\n",
       "      <td>65586646</td>\n",
       "      <td>43.107231</td>\n",
       "      <td>8918.639</td>\n",
       "    </tr>\n",
       "    <tr>\n",
       "      <th>2</th>\n",
       "      <td>sg:00003112338041738d01a3e3bb13ea68</td>\n",
       "      <td>250092114011</td>\n",
       "      <td>Religious Organizations</td>\n",
       "      <td>42.566885</td>\n",
       "      <td>-70.934055</td>\n",
       "      <td>USA11</td>\n",
       "      <td>42.577186</td>\n",
       "      <td>-70.981716</td>\n",
       "      <td>drive</td>\n",
       "      <td>65537193</td>\n",
       "      <td>173.649933</td>\n",
       "      <td>65586646</td>\n",
       "      <td>43.107231</td>\n",
       "      <td>6013.509</td>\n",
       "    </tr>\n",
       "    <tr>\n",
       "      <th>3</th>\n",
       "      <td>sg:00003112338041738d01a3e3bb13ea68</td>\n",
       "      <td>250092121002</td>\n",
       "      <td>Religious Organizations</td>\n",
       "      <td>42.566885</td>\n",
       "      <td>-70.934055</td>\n",
       "      <td>USA11</td>\n",
       "      <td>42.600718</td>\n",
       "      <td>-71.030823</td>\n",
       "      <td>drive</td>\n",
       "      <td>67147928</td>\n",
       "      <td>91.574077</td>\n",
       "      <td>65586646</td>\n",
       "      <td>43.107231</td>\n",
       "      <td>9787.074</td>\n",
       "    </tr>\n",
       "    <tr>\n",
       "      <th>4</th>\n",
       "      <td>sg:00003112338041738d01a3e3bb13ea68</td>\n",
       "      <td>250092109002</td>\n",
       "      <td>Religious Organizations</td>\n",
       "      <td>42.566885</td>\n",
       "      <td>-70.934055</td>\n",
       "      <td>USA11</td>\n",
       "      <td>42.538739</td>\n",
       "      <td>-70.921963</td>\n",
       "      <td>drive</td>\n",
       "      <td>70476252</td>\n",
       "      <td>50.653831</td>\n",
       "      <td>65586646</td>\n",
       "      <td>43.107231</td>\n",
       "      <td>4105.689</td>\n",
       "    </tr>\n",
       "  </tbody>\n",
       "</table>\n",
       "</div>"
      ],
      "text/plain": [
       "                    safegraph_place_id  census_block_group  \\\n",
       "0  sg:00003112338041738d01a3e3bb13ea68        250173353022   \n",
       "1  sg:00003112338041738d01a3e3bb13ea68        250092176001   \n",
       "2  sg:00003112338041738d01a3e3bb13ea68        250092114011   \n",
       "3  sg:00003112338041738d01a3e3bb13ea68        250092121002   \n",
       "4  sg:00003112338041738d01a3e3bb13ea68        250092109002   \n",
       "\n",
       "              top_category   latitude  longitude fuacode   intptlat  \\\n",
       "0  Religious Organizations  42.566885 -70.934055   USA11  42.505953   \n",
       "1  Religious Organizations  42.566885 -70.934055   USA11  42.585500   \n",
       "2  Religious Organizations  42.566885 -70.934055   USA11  42.577186   \n",
       "3  Religious Organizations  42.566885 -70.934055   USA11  42.600718   \n",
       "4  Religious Organizations  42.566885 -70.934055   USA11  42.538739   \n",
       "\n",
       "    intptlon   mode  origin_node  origin_node_dist  destination_node  \\\n",
       "0 -71.050532  drive     69023280         94.781506          65586646   \n",
       "1 -70.838971  drive     69503804        111.915891          65586646   \n",
       "2 -70.981716  drive     65537193        173.649933          65586646   \n",
       "3 -71.030823  drive     67147928         91.574077          65586646   \n",
       "4 -70.921963  drive     70476252         50.653831          65586646   \n",
       "\n",
       "   destination_node_dist   distance  \n",
       "0              43.107231  14291.359  \n",
       "1              43.107231   8918.639  \n",
       "2              43.107231   6013.509  \n",
       "3              43.107231   9787.074  \n",
       "4              43.107231   4105.689  "
      ]
     },
     "execution_count": 15,
     "metadata": {},
     "output_type": "execute_result"
    }
   ],
   "source": [
    "OD_matrix_boston.head()"
   ]
  },
  {
   "cell_type": "markdown",
   "metadata": {},
   "source": [
    "The two networks occupy the same boundary, but are strikingly different in density and capillarity (there are many often more walking paths, and those are also always bidirectional)"
   ]
  },
  {
   "cell_type": "code",
   "execution_count": null,
   "metadata": {},
   "outputs": [],
   "source": [
    "fig, Axes = plt.subplots(figsize=(40,20), ncols=2)\n",
    "\n",
    "ax1 = buffered_boundary_boston.plot(ax=Axes[0])\n",
    "ax1 = ox.plot_graph(walk_graph_boston, ax=ax1, close=False, show=False)[1]\n",
    "ax1.title.set_text('Walking Network')\n",
    "\n",
    "ax2 = buffered_boundary_boston.plot(ax=Axes[1])\n",
    "ax2 = ox.plot_graph(drive_graph_boston, ax=ax2, close=False, show=False)[1]\n",
    "ax2.title.set_text('Driving Network')\n",
    "\n",
    "plt.show()"
   ]
  },
  {
   "cell_type": "markdown",
   "metadata": {},
   "source": [
    "## 2. Looking at the Distances:"
   ]
  },
  {
   "cell_type": "markdown",
   "metadata": {},
   "source": [
    "Some matrices have nan values. These values occured due to OSMNx not finding a route i.e. the closest node to the POI lies on an isolated node in the directional network. There were also some missed rows because we clipped the matrix."
   ]
  },
  {
   "cell_type": "code",
   "execution_count": 40,
   "metadata": {},
   "outputs": [],
   "source": [
    "with open('../data/d02_processed-safegraph/safegraph_fua.txt') as f:\n",
    "    lines = f.readlines()\n",
    "fua_codes = [code.strip('\\n') for code in lines[::-1]]"
   ]
  },
  {
   "cell_type": "markdown",
   "metadata": {},
   "source": [
    "Let's get a summary dataframe of our results performance:"
   ]
  },
  {
   "cell_type": "code",
   "execution_count": 46,
   "metadata": {},
   "outputs": [
    {
     "name": "stdout",
     "output_type": "stream",
     "text": [
      "There are 19307834 rows in the dataset\n"
     ]
    }
   ],
   "source": [
    "full_od_matrix = pd.read_csv('../data/d02_processed-safegraph/weeks_od_us_fua.csv')\n",
    "print('There are', len(full_od_matrix), 'rows in the dataset')"
   ]
  },
  {
   "cell_type": "code",
   "execution_count": 69,
   "metadata": {},
   "outputs": [
    {
     "name": "stderr",
     "output_type": "stream",
     "text": [
      "100%|████████████████████████████| 162/162 [04:07<00:00,  1.53s/it]\n"
     ]
    }
   ],
   "source": [
    "data_summary = {'fuacode':[], 'total_rows':[], 'clipped_rows':[], 'null_rows':[]}\n",
    "for fua in tqdm(fua_codes):\n",
    "    #Add the FUA code:\n",
    "    data_summary['fuacode'].append(fua)\n",
    "    \n",
    "    #Add the original number of rows:\n",
    "    total_rows = len(full_od_matrix[full_od_matrix['fuacode']==fua])\n",
    "    data_summary['total_rows'].append(total_rows)\n",
    "    \n",
    "    #Load the computed distance matrix:\n",
    "    fua_OD_matrix = pd.read_csv('../data/d04_final-OD-matrices/'+fua+'_ODmatrix.csv').drop(['Unnamed: 0'], axis=1)\n",
    "    \n",
    "    #Add the clipped number of rows:\n",
    "    total_OD_rows = len(fua_OD_matrix)\n",
    "    data_summary['clipped_rows'].append(total_rows-total_OD_rows)\n",
    "    \n",
    "    #Add the null number of rows:\n",
    "    null_rows = len(fua_OD_matrix[fua_OD_matrix['distance'].isnull()])\n",
    "    data_summary['null_rows'].append(null_rows)\n",
    "\n",
    "summary_df = pd.DataFrame.from_dict(data_summary).set_index('fuacode')"
   ]
  },
  {
   "cell_type": "code",
   "execution_count": 70,
   "metadata": {},
   "outputs": [],
   "source": [
    "summary_df['lost_rows'] = summary_df['clipped_rows']+summary_df['null_rows']\n",
    "\n",
    "summary_df['percent_clipped_rows'] = 100*summary_df['clipped_rows']/summary_df['total_rows']\n",
    "summary_df['percent_null_rows'] = 100*summary_df['null_rows']/(summary_df['total_rows']-summary_df['clipped_rows'])\n",
    "summary_df['percent_lost_rows'] = 100*summary_df['lost_rows']/summary_df['total_rows']"
   ]
  },
  {
   "cell_type": "code",
   "execution_count": 71,
   "metadata": {},
   "outputs": [
    {
     "data": {
      "text/html": [
       "<div>\n",
       "<style scoped>\n",
       "    .dataframe tbody tr th:only-of-type {\n",
       "        vertical-align: middle;\n",
       "    }\n",
       "\n",
       "    .dataframe tbody tr th {\n",
       "        vertical-align: top;\n",
       "    }\n",
       "\n",
       "    .dataframe thead th {\n",
       "        text-align: right;\n",
       "    }\n",
       "</style>\n",
       "<table border=\"1\" class=\"dataframe\">\n",
       "  <thead>\n",
       "    <tr style=\"text-align: right;\">\n",
       "      <th></th>\n",
       "      <th>total_rows</th>\n",
       "      <th>clipped_rows</th>\n",
       "      <th>null_rows</th>\n",
       "      <th>lost_rows</th>\n",
       "      <th>percent_clipped_rows</th>\n",
       "      <th>percent_null_rows</th>\n",
       "      <th>percent_lost_rows</th>\n",
       "    </tr>\n",
       "    <tr>\n",
       "      <th>fuacode</th>\n",
       "      <th></th>\n",
       "      <th></th>\n",
       "      <th></th>\n",
       "      <th></th>\n",
       "      <th></th>\n",
       "      <th></th>\n",
       "      <th></th>\n",
       "    </tr>\n",
       "  </thead>\n",
       "  <tbody>\n",
       "    <tr>\n",
       "      <th>USA01</th>\n",
       "      <td>2179673</td>\n",
       "      <td>6017</td>\n",
       "      <td>4479</td>\n",
       "      <td>10496</td>\n",
       "      <td>0.276051</td>\n",
       "      <td>0.206058</td>\n",
       "      <td>0.481540</td>\n",
       "    </tr>\n",
       "    <tr>\n",
       "      <th>USA02</th>\n",
       "      <td>1618896</td>\n",
       "      <td>4135</td>\n",
       "      <td>8643</td>\n",
       "      <td>12778</td>\n",
       "      <td>0.255421</td>\n",
       "      <td>0.535249</td>\n",
       "      <td>0.789303</td>\n",
       "    </tr>\n",
       "    <tr>\n",
       "      <th>USA03</th>\n",
       "      <td>837349</td>\n",
       "      <td>2809</td>\n",
       "      <td>3919</td>\n",
       "      <td>6728</td>\n",
       "      <td>0.335463</td>\n",
       "      <td>0.469600</td>\n",
       "      <td>0.803488</td>\n",
       "    </tr>\n",
       "    <tr>\n",
       "      <th>USA04</th>\n",
       "      <td>731260</td>\n",
       "      <td>3150</td>\n",
       "      <td>3913</td>\n",
       "      <td>7063</td>\n",
       "      <td>0.430763</td>\n",
       "      <td>0.537419</td>\n",
       "      <td>0.965867</td>\n",
       "    </tr>\n",
       "    <tr>\n",
       "      <th>USA05</th>\n",
       "      <td>550234</td>\n",
       "      <td>4849</td>\n",
       "      <td>2733</td>\n",
       "      <td>7582</td>\n",
       "      <td>0.881261</td>\n",
       "      <td>0.501114</td>\n",
       "      <td>1.377959</td>\n",
       "    </tr>\n",
       "  </tbody>\n",
       "</table>\n",
       "</div>"
      ],
      "text/plain": [
       "         total_rows  clipped_rows  null_rows  lost_rows  percent_clipped_rows  \\\n",
       "fuacode                                                                         \n",
       "USA01       2179673          6017       4479      10496              0.276051   \n",
       "USA02       1618896          4135       8643      12778              0.255421   \n",
       "USA03        837349          2809       3919       6728              0.335463   \n",
       "USA04        731260          3150       3913       7063              0.430763   \n",
       "USA05        550234          4849       2733       7582              0.881261   \n",
       "\n",
       "         percent_null_rows  percent_lost_rows  \n",
       "fuacode                                        \n",
       "USA01             0.206058           0.481540  \n",
       "USA02             0.535249           0.789303  \n",
       "USA03             0.469600           0.803488  \n",
       "USA04             0.537419           0.965867  \n",
       "USA05             0.501114           1.377959  "
      ]
     },
     "execution_count": 71,
     "metadata": {},
     "output_type": "execute_result"
    }
   ],
   "source": [
    "summary_df.head()"
   ]
  },
  {
   "cell_type": "code",
   "execution_count": 72,
   "metadata": {},
   "outputs": [],
   "source": [
    "summary_df.to_csv('../data/d04_final-OD-matrices/summary.csv')"
   ]
  },
  {
   "cell_type": "code",
   "execution_count": 73,
   "metadata": {},
   "outputs": [
    {
     "data": {
      "text/plain": [
       "array([[<AxesSubplot:title={'center':'percent_clipped_rows'}>]],\n",
       "      dtype=object)"
      ]
     },
     "execution_count": 73,
     "metadata": {},
     "output_type": "execute_result"
    },
    {
     "data": {
      "image/png": "[encoded data removed]",
      "text/plain": [
       "<Figure size 432x288 with 1 Axes>"
      ]
     },
     "metadata": {
      "needs_background": "light"
     },
     "output_type": "display_data"
    }
   ],
   "source": [
    "summary_df.hist('percent_clipped_rows')"
   ]
  },
  {
   "cell_type": "code",
   "execution_count": 75,
   "metadata": {},
   "outputs": [
    {
     "name": "stdout",
     "output_type": "stream",
     "text": [
      "In total,  1.608077923607481 % of the rows were clipped and  2.0323150712977474  were lost\n"
     ]
    }
   ],
   "source": [
    "print('In total, ', 100*summary_df.sum()['clipped_rows']/summary_df.sum()['total_rows'], '% of the rows were clipped and ', 100*summary_df.sum()['lost_rows']/summary_df.sum()['total_rows'], ' were lost')"
   ]
  },
  {
   "cell_type": "code",
   "execution_count": 77,
   "metadata": {},
   "outputs": [
    {
     "data": {
      "text/plain": [
       "total_rows              1.930783e+07\n",
       "clipped_rows            3.104850e+05\n",
       "null_rows               8.191100e+04\n",
       "lost_rows               3.923960e+05\n",
       "percent_clipped_rows    6.217307e+02\n",
       "percent_null_rows       5.047067e+01\n",
       "percent_lost_rows       6.703996e+02\n",
       "dtype: float64"
      ]
     },
     "execution_count": 77,
     "metadata": {},
     "output_type": "execute_result"
    }
   ],
   "source": [
    "summary_df.sum()"
   ]
  },
  {
   "cell_type": "code",
   "execution_count": null,
   "metadata": {},
   "outputs": [],
   "source": []
  }
 ],
 "metadata": {
  "kernelspec": {
   "display_name": "Python 3",
   "language": "python",
   "name": "python3"
  },
  "language_info": {
   "codemirror_mode": {
    "name": "ipython",
    "version": 3
   },
   "file_extension": ".py",
   "mimetype": "text/x-python",
   "name": "python",
   "nbconvert_exporter": "python",
   "pygments_lexer": "ipython3",
   "version": "3.8.5"
  }
 },
 "nbformat": 4,
 "nbformat_minor": 5
}
