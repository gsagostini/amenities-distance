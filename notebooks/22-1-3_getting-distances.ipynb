{
 "cells": [
  {
   "cell_type": "code",
   "execution_count": 1,
   "id": "dd63ab3f-5d9f-4069-89d5-7774ad794330",
   "metadata": {},
   "outputs": [],
   "source": [
    "import networkx as nx\n",
    "import osmnx as ox\n",
    "import pandas as pd\n",
    "import geopandas as gpd\n",
    "import matplotlib.pyplot as plt\n",
    "from multiprocessing import Pool"
   ]
  },
  {
   "cell_type": "markdown",
   "id": "eb6278de-25dc-4efa-a6b0-ec1e3c60044f",
   "metadata": {},
   "source": [
    "# Getting Distances"
   ]
  },
  {
   "cell_type": "markdown",
   "id": "356ed9b8-abcb-4ef9-a35d-60476617f664",
   "metadata": {},
   "source": [
    "In this notebook we will work the script to get the network distances from prepared (and trimmed) OD matrices"
   ]
  },
  {
   "cell_type": "markdown",
   "id": "064c7ffb-2881-4939-882b-e45c71d914b3",
   "metadata": {},
   "source": [
    "## 1. OSMnx modified distance functions:"
   ]
  },
  {
   "cell_type": "markdown",
   "id": "07d3a7d1-1db8-4436-ad6d-0f2393e257dd",
   "metadata": {},
   "source": [
    "The following functions are used under the hood by OSMNx to get shortest paths. I have to modify them in order to retrieve not the shortest path but the shortest path length. This could be done directly, without appealing to OSMnx, with NetworkX. However, this modification is easy and is already parallelized---so that we can run the computations with multiple cores."
   ]
  },
  {
   "cell_type": "code",
   "execution_count": 2,
   "id": "8b513feb-3f6e-40d2-9126-120e138ab684",
   "metadata": {},
   "outputs": [],
   "source": [
    "def _single_shortest_path_distance(G, orig, dest, weight):\n",
    "    \"\"\"\n",
    "    Get shortest path distance from an origin node to a destination node.\n",
    "    This function is a convenience wrapper around networkx.shortest_path, with\n",
    "    exception handling for unsolvable paths.\n",
    "    Parameters\n",
    "    ----------\n",
    "    G : networkx.MultiDiGraph\n",
    "        input graph\n",
    "    orig : int\n",
    "        origin node ID\n",
    "    dest : int\n",
    "        destination node ID\n",
    "    weight : string\n",
    "        edge attribute to minimize when solving shortest path\n",
    "    Returns\n",
    "    -------\n",
    "    dist : float\n",
    "        shortest (weighted) distance between origin and destination nodes\n",
    "    \"\"\"\n",
    "    try:\n",
    "        return nx.shortest_path_length(G, orig, dest, weight=weight) #change function here from G. Boeing's repo\n",
    "    except nx.exception.NetworkXNoPath:\n",
    "        return None\n",
    "\n",
    "def shortest_path_distance(G, orig, dest, weight=\"length\", cpus=1):\n",
    "    \"\"\"\n",
    "    Get shortest path distance from origin node(s) to destination node(s).\n",
    "    If `orig` and `dest` are single node IDs, this will return a list of the\n",
    "    nodes constituting the shortest path between them.  If `orig` and `dest`\n",
    "    are lists of node IDs, this will return a list of lists of the nodes\n",
    "    constituting the shortest path between each origin-destination pair. If a\n",
    "    path cannot be solved, this will return None for that path. You can\n",
    "    parallelize solving multiple paths with the `cpus` parameter, but be\n",
    "    careful to not exceed your available RAM.\n",
    "    Parameters\n",
    "    ----------\n",
    "    G : networkx.MultiDiGraph\n",
    "        input graph\n",
    "    orig : int or list\n",
    "        origin node ID, or a list of origin node IDs\n",
    "    dest : int or list\n",
    "        destination node ID, or a list of destination node IDs\n",
    "    weight : string\n",
    "        edge attribute to minimize when solving shortest path\n",
    "    cpus : int\n",
    "        how many CPU cores to use; if None, use all available\n",
    "    Returns\n",
    "    -------\n",
    "    path : list\n",
    "        list of node IDs constituting the shortest path, or, if orig and dest\n",
    "        are lists, then a list of path lists\n",
    "    \"\"\"\n",
    "    if not (hasattr(orig, \"__iter__\") or hasattr(dest, \"__iter__\")):\n",
    "        # if neither orig nor dest is iterable, just return the shortest path\n",
    "        return _single_shortest_path_distance(G, orig, dest, weight)\n",
    "\n",
    "    elif hasattr(orig, \"__iter__\") and hasattr(dest, \"__iter__\"):\n",
    "        # if both orig and dest are iterables ensure they have same lengths\n",
    "        if len(orig) != len(dest):  # pragma: no cover\n",
    "            raise ValueError(\"orig and dest must contain same number of elements\")\n",
    "\n",
    "        if cpus == 1:\n",
    "            # if single-threading, calculate each shortest path one at a time\n",
    "            paths = [_single_shortest_path_distance(G, o, d, weight) for o, d in zip(orig, dest)]\n",
    "        else:\n",
    "            # if multi-threading, calculate shortest paths in parallel\n",
    "            args = ((G, o, d, weight) for o, d in zip(orig, dest))\n",
    "            pool = Pool(cpus)\n",
    "            sma = pool.starmap_async(_single_shortest_path_distance, args)\n",
    "            paths = sma.get()\n",
    "            pool.close()\n",
    "            pool.join()\n",
    "\n",
    "        return paths\n",
    "\n",
    "    else:\n",
    "        # if only one of orig or dest is iterable and the other is not\n",
    "        raise ValueError(\"orig and dest must either both be iterable or neither must be iterable\")"
   ]
  },
  {
   "cell_type": "markdown",
   "id": "e972eddd-4f98-4b8c-a4d3-cc69f92d7b65",
   "metadata": {},
   "source": [
    "## 2. Getting the naive distance:"
   ]
  },
  {
   "cell_type": "markdown",
   "id": "8d30d491-c055-47ab-bc98-97d1e4c53c78",
   "metadata": {},
   "source": [
    "People walk to amenities less than 2km away and drive to those further. To start picking the mode, we can do a first straight line distance filter. The following function does this job:"
   ]
  },
  {
   "cell_type": "code",
   "execution_count": 3,
   "id": "95842b31-fad8-4d49-95d2-efd52ffc1756",
   "metadata": {},
   "outputs": [],
   "source": [
    "def get_naive_OD(fua_code, threshold=2000, number_of_cores=1):\n",
    "    #Get the files:\n",
    "    od_matrix = pd.read_csv('../data/d02_processed-safegraph/trimmed-OD-per-FUA/'+fua_code+'_trimmed-ODmatrix.csv')\n",
    "    walk_graph = ox.project_graph(ox.load_graphml('../data/d03_intermediate/FUA-networks/walk/'+fua_code+'.graphml'), to_crs='EPSG:5070')\n",
    "    drive_graph = ox.project_graph(ox.load_graphml('../data/d03_intermediate/FUA-networks/drive/'+fua_code+'.graphml'), to_crs='EPSG:5070')\n",
    "    print('  got all files')\n",
    "\n",
    "    #Get the geometries of origin and destinations:\n",
    "    places_pt = gpd.points_from_xy(x= od_matrix.longitude, y=od_matrix.latitude, crs='EPSG:4326').to_crs('EPSG:5070')\n",
    "    centroids_pt = gpd.points_from_xy(x= od_matrix.intptlon, y=od_matrix.intptlat, crs='EPSG:4326').to_crs('EPSG:5070')\n",
    "\n",
    "    od_matrix['origin_x'], od_matrix['origin_y'] = centroids_pt.x, centroids_pt.y\n",
    "    od_matrix['dest_x'], od_matrix['dest_y'] = places_pt.x, places_pt.y\n",
    "\n",
    "    #Get the Boolean value of whether we walk or drive:\n",
    "    od_matrix['walk'] = places_pt.distance(centroids_pt) <= threshold\n",
    "    print('  got preferred mode')\n",
    "\n",
    "    #Now we split the dataframe into two (one for walking and one for driving):\n",
    "    od_matrix_dict = {walk: df for walk, df in od_matrix.groupby('walk')}\n",
    "    G = {False: drive_graph, True: walk_graph}\n",
    "\n",
    "    #For each of those dataframes, we do nearest nodes from OSMnx on the appropriate graph and the distance:\n",
    "    full_dfs = []\n",
    "    for walk, df in od_matrix_dict.items():\n",
    "        df['origin_node'] = ox.nearest_nodes(G[walk], df['origin_x'], df['origin_y'])\n",
    "        df['destination_node'] = ox.nearest_nodes(G[walk], df['dest_x'], df['dest_y'])\n",
    "        df['distance'] = shortest_path_distance(G[walk],\n",
    "                                                df['origin_node'].values, df['destination_node'].values,\n",
    "                                                cpus=number_of_cores)\n",
    "        full_dfs.append(df)\n",
    "\n",
    "    merged_df = pd.concat(full_dfs, ignore_index=True)\n",
    "    expanded_OD = merged_df.drop(['origin_x', 'origin_y', 'dest_x', 'dest_y'], axis=1)\n",
    "    print('  got expanded matrix')\n",
    "\n",
    "    expanded_OD.to_csv('../data/d04_final-OD-matrices/naive-OD-per-FUA/' + fua_code+'_full-ODmatrix.csv')\n",
    "    print('  saved')"
   ]
  },
  {
   "cell_type": "markdown",
   "id": "727dbaaf-4985-4c42-b2b2-ed03acd6cf14",
   "metadata": {},
   "source": [
    "This code can be ran in the cluster through the executable script get-distance.py . We can submit one job per FUA with its code."
   ]
  },
  {
   "cell_type": "markdown",
   "id": "16f5d5c2-e1cf-4856-a982-04076cc87df3",
   "metadata": {},
   "source": [
    "## 3. Evaluating the Naive Distance:"
   ]
  },
  {
   "cell_type": "markdown",
   "id": "7d858af9-be31-472a-bbd4-601efede0d24",
   "metadata": {},
   "source": [
    "After running the script (which takes less than an hour for most FUAs but up to 15 hours for the largest ones) we obtained all the naive OD matrices with distance. Now it is time to go back to verify the access modes (walk vs. drive) are coherent with the network distance computed. Let's load a few files:"
   ]
  },
  {
   "cell_type": "code",
   "execution_count": 4,
   "id": "68906021-cace-4426-a575-3e788a549e47",
   "metadata": {},
   "outputs": [],
   "source": [
    "def get_files(fua_code):\n",
    "    \n",
    "    buffered_boundary = gpd.read_file('../data/d03_intermediate/FUA-buffered-shapefile/FUA-buffered.shp').set_index('fuacode').loc[[fua_code]]\n",
    "    walk_graph = ox.load_graphml('../data/d03_intermediate/FUA-networks/walk/'+fua_code+'.graphml')\n",
    "    drive_graph = ox.load_graphml('../data/d03_intermediate/FUA-networks/drive/'+fua_code+'.graphml')\n",
    "    OD_matrix = pd.read_csv('../data/d04_final-OD-matrices/naive-OD-per-FUA/'+fua_code+'_full-ODmatrix.csv').drop('Unnamed: 0', axis=1)\n",
    "    \n",
    "    return buffered_boundary, walk_graph, drive_graph, OD_matrix"
   ]
  },
  {
   "cell_type": "code",
   "execution_count": 5,
   "id": "50a05f14-0871-4407-b6e0-7a8ba603796a",
   "metadata": {},
   "outputs": [],
   "source": [
    "buffered_boundary_80, walk_graph_80, drive_graph_80, OD_matrix_80 = get_files('USA80')\n",
    "buffered_boundary_81, walk_graph_81, drive_graph_81, OD_matrix_81 = get_files('USA81')"
   ]
  },
  {
   "cell_type": "markdown",
   "id": "4b14cc32-a0d9-4c88-b3a2-44623bbf3011",
   "metadata": {},
   "source": [
    "In some cases, even though the commute was made \"through walking\", the distance is superior to 2,000 meters. This is because the walk vs. drive original split was made in terms of the straight line distance. We will need to select these columns and reapply the script. It is important to check that such rows are a minority."
   ]
  },
  {
   "cell_type": "code",
   "execution_count": 6,
   "id": "89a92988-296b-4bf1-8139-1da901b99644",
   "metadata": {},
   "outputs": [],
   "source": [
    "bad_rows_80 = OD_matrix_80.loc[(OD_matrix_80['walk']==True) & (OD_matrix_80['distance'] > 2000)]"
   ]
  },
  {
   "cell_type": "code",
   "execution_count": 7,
   "id": "0ebe390d-8815-4ef8-aa5e-2218846b3023",
   "metadata": {},
   "outputs": [
    {
     "data": {
      "text/html": [
       "<div>\n",
       "<style scoped>\n",
       "    .dataframe tbody tr th:only-of-type {\n",
       "        vertical-align: middle;\n",
       "    }\n",
       "\n",
       "    .dataframe tbody tr th {\n",
       "        vertical-align: top;\n",
       "    }\n",
       "\n",
       "    .dataframe thead th {\n",
       "        text-align: right;\n",
       "    }\n",
       "</style>\n",
       "<table border=\"1\" class=\"dataframe\">\n",
       "  <thead>\n",
       "    <tr style=\"text-align: right;\">\n",
       "      <th></th>\n",
       "      <th>safegraph_place_id</th>\n",
       "      <th>census_block_group</th>\n",
       "      <th>top_category</th>\n",
       "      <th>latitude</th>\n",
       "      <th>longitude</th>\n",
       "      <th>fuacode</th>\n",
       "      <th>intptlat</th>\n",
       "      <th>intptlon</th>\n",
       "      <th>walk</th>\n",
       "      <th>origin_node</th>\n",
       "      <th>destination_node</th>\n",
       "      <th>distance</th>\n",
       "    </tr>\n",
       "  </thead>\n",
       "  <tbody>\n",
       "    <tr>\n",
       "      <th>33975</th>\n",
       "      <td>sg:0019073c3a6b4f47b31aae863a1fd8e9</td>\n",
       "      <td>550250113011</td>\n",
       "      <td>Museums, Historical Sites, and Similar Institu...</td>\n",
       "      <td>43.190772</td>\n",
       "      <td>-89.448029</td>\n",
       "      <td>USA80</td>\n",
       "      <td>43.205964</td>\n",
       "      <td>-89.448195</td>\n",
       "      <td>True</td>\n",
       "      <td>7794027730</td>\n",
       "      <td>2484168381</td>\n",
       "      <td>2235.279</td>\n",
       "    </tr>\n",
       "    <tr>\n",
       "      <th>33976</th>\n",
       "      <td>sg:0019073c3a6b4f47b31aae863a1fd8e9</td>\n",
       "      <td>550250113022</td>\n",
       "      <td>Museums, Historical Sites, and Similar Institu...</td>\n",
       "      <td>43.190772</td>\n",
       "      <td>-89.448029</td>\n",
       "      <td>USA80</td>\n",
       "      <td>43.184520</td>\n",
       "      <td>-89.431324</td>\n",
       "      <td>True</td>\n",
       "      <td>2521835313</td>\n",
       "      <td>2484168381</td>\n",
       "      <td>2152.622</td>\n",
       "    </tr>\n",
       "    <tr>\n",
       "      <th>33979</th>\n",
       "      <td>sg:0020ba99d61547aeb8dc4984409df935</td>\n",
       "      <td>550250006003</td>\n",
       "      <td>Museums, Historical Sites, and Similar Institu...</td>\n",
       "      <td>43.028188</td>\n",
       "      <td>-89.456800</td>\n",
       "      <td>USA80</td>\n",
       "      <td>43.019631</td>\n",
       "      <td>-89.462452</td>\n",
       "      <td>True</td>\n",
       "      <td>5569162367</td>\n",
       "      <td>5368464948</td>\n",
       "      <td>3488.850</td>\n",
       "    </tr>\n",
       "    <tr>\n",
       "      <th>33990</th>\n",
       "      <td>sg:00235c5b5ae4403abfa1fd20ccb69d01</td>\n",
       "      <td>550250012004</td>\n",
       "      <td>Restaurants and Other Eating Places</td>\n",
       "      <td>43.074940</td>\n",
       "      <td>-89.390787</td>\n",
       "      <td>USA80</td>\n",
       "      <td>43.064874</td>\n",
       "      <td>-89.404903</td>\n",
       "      <td>True</td>\n",
       "      <td>5489150623</td>\n",
       "      <td>3269859225</td>\n",
       "      <td>2226.806</td>\n",
       "    </tr>\n",
       "    <tr>\n",
       "      <th>33991</th>\n",
       "      <td>sg:0025699830dc410eaa82844eeeb8b360</td>\n",
       "      <td>550250119004</td>\n",
       "      <td>Museums, Historical Sites, and Similar Institu...</td>\n",
       "      <td>42.991451</td>\n",
       "      <td>-89.022372</td>\n",
       "      <td>USA80</td>\n",
       "      <td>42.984409</td>\n",
       "      <td>-89.028839</td>\n",
       "      <td>True</td>\n",
       "      <td>8124599136</td>\n",
       "      <td>2457606095</td>\n",
       "      <td>2016.856</td>\n",
       "    </tr>\n",
       "    <tr>\n",
       "      <th>...</th>\n",
       "      <td>...</td>\n",
       "      <td>...</td>\n",
       "      <td>...</td>\n",
       "      <td>...</td>\n",
       "      <td>...</td>\n",
       "      <td>...</td>\n",
       "      <td>...</td>\n",
       "      <td>...</td>\n",
       "      <td>...</td>\n",
       "      <td>...</td>\n",
       "      <td>...</td>\n",
       "      <td>...</td>\n",
       "    </tr>\n",
       "    <tr>\n",
       "      <th>39470</th>\n",
       "      <td>sg:98fcd66aa3da4e25acfea23a1bdc6c10</td>\n",
       "      <td>550250109011</td>\n",
       "      <td>Restaurants and Other Eating Places</td>\n",
       "      <td>43.075378</td>\n",
       "      <td>-89.528439</td>\n",
       "      <td>USA80</td>\n",
       "      <td>43.065130</td>\n",
       "      <td>-89.547971</td>\n",
       "      <td>True</td>\n",
       "      <td>5483831985</td>\n",
       "      <td>443884009</td>\n",
       "      <td>2602.998</td>\n",
       "    </tr>\n",
       "    <tr>\n",
       "      <th>39472</th>\n",
       "      <td>sg:99129e09dffb46029ff3cc6ff49e68e9</td>\n",
       "      <td>550250016044</td>\n",
       "      <td>Restaurants and Other Eating Places</td>\n",
       "      <td>43.067537</td>\n",
       "      <td>-89.408167</td>\n",
       "      <td>USA80</td>\n",
       "      <td>43.076617</td>\n",
       "      <td>-89.395020</td>\n",
       "      <td>True</td>\n",
       "      <td>2705034726</td>\n",
       "      <td>3811347658</td>\n",
       "      <td>2032.864</td>\n",
       "    </tr>\n",
       "    <tr>\n",
       "      <th>39487</th>\n",
       "      <td>sg:991b900dca4948bbae8cf4e7ea77bca4</td>\n",
       "      <td>550250031001</td>\n",
       "      <td>Health and Personal Care Stores</td>\n",
       "      <td>43.085170</td>\n",
       "      <td>-89.277655</td>\n",
       "      <td>USA80</td>\n",
       "      <td>43.081103</td>\n",
       "      <td>-89.296367</td>\n",
       "      <td>True</td>\n",
       "      <td>53476533</td>\n",
       "      <td>4184204415</td>\n",
       "      <td>2074.149</td>\n",
       "    </tr>\n",
       "    <tr>\n",
       "      <th>39490</th>\n",
       "      <td>sg:993bb6220d964c2795792c144d998c93</td>\n",
       "      <td>551110001001</td>\n",
       "      <td>Religious Organizations</td>\n",
       "      <td>43.625231</td>\n",
       "      <td>-89.773420</td>\n",
       "      <td>USA80</td>\n",
       "      <td>43.617606</td>\n",
       "      <td>-89.789501</td>\n",
       "      <td>True</td>\n",
       "      <td>5754368622</td>\n",
       "      <td>1347285687</td>\n",
       "      <td>4146.551</td>\n",
       "    </tr>\n",
       "    <tr>\n",
       "      <th>39491</th>\n",
       "      <td>sg:99538cfc23b745a1819c3c73eb22af1d</td>\n",
       "      <td>550219712001</td>\n",
       "      <td>Child Day Care Services</td>\n",
       "      <td>43.323568</td>\n",
       "      <td>-89.020823</td>\n",
       "      <td>USA80</td>\n",
       "      <td>43.339009</td>\n",
       "      <td>-89.011281</td>\n",
       "      <td>True</td>\n",
       "      <td>5033128161</td>\n",
       "      <td>8163437082</td>\n",
       "      <td>2108.492</td>\n",
       "    </tr>\n",
       "  </tbody>\n",
       "</table>\n",
       "<p>1417 rows × 12 columns</p>\n",
       "</div>"
      ],
      "text/plain": [
       "                        safegraph_place_id  census_block_group  \\\n",
       "33975  sg:0019073c3a6b4f47b31aae863a1fd8e9        550250113011   \n",
       "33976  sg:0019073c3a6b4f47b31aae863a1fd8e9        550250113022   \n",
       "33979  sg:0020ba99d61547aeb8dc4984409df935        550250006003   \n",
       "33990  sg:00235c5b5ae4403abfa1fd20ccb69d01        550250012004   \n",
       "33991  sg:0025699830dc410eaa82844eeeb8b360        550250119004   \n",
       "...                                    ...                 ...   \n",
       "39470  sg:98fcd66aa3da4e25acfea23a1bdc6c10        550250109011   \n",
       "39472  sg:99129e09dffb46029ff3cc6ff49e68e9        550250016044   \n",
       "39487  sg:991b900dca4948bbae8cf4e7ea77bca4        550250031001   \n",
       "39490  sg:993bb6220d964c2795792c144d998c93        551110001001   \n",
       "39491  sg:99538cfc23b745a1819c3c73eb22af1d        550219712001   \n",
       "\n",
       "                                            top_category   latitude  \\\n",
       "33975  Museums, Historical Sites, and Similar Institu...  43.190772   \n",
       "33976  Museums, Historical Sites, and Similar Institu...  43.190772   \n",
       "33979  Museums, Historical Sites, and Similar Institu...  43.028188   \n",
       "33990                Restaurants and Other Eating Places  43.074940   \n",
       "33991  Museums, Historical Sites, and Similar Institu...  42.991451   \n",
       "...                                                  ...        ...   \n",
       "39470                Restaurants and Other Eating Places  43.075378   \n",
       "39472                Restaurants and Other Eating Places  43.067537   \n",
       "39487                    Health and Personal Care Stores  43.085170   \n",
       "39490                            Religious Organizations  43.625231   \n",
       "39491                            Child Day Care Services  43.323568   \n",
       "\n",
       "       longitude fuacode   intptlat   intptlon  walk  origin_node  \\\n",
       "33975 -89.448029   USA80  43.205964 -89.448195  True   7794027730   \n",
       "33976 -89.448029   USA80  43.184520 -89.431324  True   2521835313   \n",
       "33979 -89.456800   USA80  43.019631 -89.462452  True   5569162367   \n",
       "33990 -89.390787   USA80  43.064874 -89.404903  True   5489150623   \n",
       "33991 -89.022372   USA80  42.984409 -89.028839  True   8124599136   \n",
       "...          ...     ...        ...        ...   ...          ...   \n",
       "39470 -89.528439   USA80  43.065130 -89.547971  True   5483831985   \n",
       "39472 -89.408167   USA80  43.076617 -89.395020  True   2705034726   \n",
       "39487 -89.277655   USA80  43.081103 -89.296367  True     53476533   \n",
       "39490 -89.773420   USA80  43.617606 -89.789501  True   5754368622   \n",
       "39491 -89.020823   USA80  43.339009 -89.011281  True   5033128161   \n",
       "\n",
       "       destination_node  distance  \n",
       "33975        2484168381  2235.279  \n",
       "33976        2484168381  2152.622  \n",
       "33979        5368464948  3488.850  \n",
       "33990        3269859225  2226.806  \n",
       "33991        2457606095  2016.856  \n",
       "...                 ...       ...  \n",
       "39470         443884009  2602.998  \n",
       "39472        3811347658  2032.864  \n",
       "39487        4184204415  2074.149  \n",
       "39490        1347285687  4146.551  \n",
       "39491        8163437082  2108.492  \n",
       "\n",
       "[1417 rows x 12 columns]"
      ]
     },
     "execution_count": 7,
     "metadata": {},
     "output_type": "execute_result"
    }
   ],
   "source": [
    "bad_rows_80"
   ]
  },
  {
   "cell_type": "markdown",
   "id": "d13dbba4-445e-40fb-b17b-379f059f8cba",
   "metadata": {},
   "source": [
    "How many rows do these represent in terms of all rows? Of all walking rows?"
   ]
  },
  {
   "cell_type": "code",
   "execution_count": 8,
   "id": "33df31c4-127c-471c-afce-ca54a06e069b",
   "metadata": {},
   "outputs": [
    {
     "data": {
      "text/plain": [
       "0.03587977616286431"
      ]
     },
     "execution_count": 8,
     "metadata": {},
     "output_type": "execute_result"
    }
   ],
   "source": [
    "len(bad_rows_80)/len(OD_matrix_80)"
   ]
  },
  {
   "cell_type": "code",
   "execution_count": 9,
   "id": "79f4cb7b-2dad-46d7-ad75-23321d13ce82",
   "metadata": {},
   "outputs": [
    {
     "data": {
      "text/plain": [
       "0.25679594055817323"
      ]
     },
     "execution_count": 9,
     "metadata": {},
     "output_type": "execute_result"
    }
   ],
   "source": [
    "len(bad_rows_80)/len(OD_matrix_80.loc[OD_matrix_80['walk']])"
   ]
  },
  {
   "cell_type": "markdown",
   "id": "ee9f5ee3-38ab-4cea-8222-db28bc16a034",
   "metadata": {},
   "source": [
    "Now for the 81:"
   ]
  },
  {
   "cell_type": "code",
   "execution_count": 10,
   "id": "e3bc510c-b695-4101-9384-86c1c82b58c6",
   "metadata": {},
   "outputs": [
    {
     "name": "stdout",
     "output_type": "stream",
     "text": [
      "0.044413290340670125\n",
      "0.4601975595583963\n"
     ]
    }
   ],
   "source": [
    "bad_rows_81 = OD_matrix_81.loc[(OD_matrix_81['walk']==True) & (OD_matrix_81['distance'] > 2000)]\n",
    "print(len(bad_rows_81)/len(OD_matrix_81))\n",
    "print(len(bad_rows_81)/len(OD_matrix_81.loc[OD_matrix_81['walk']]))"
   ]
  },
  {
   "cell_type": "markdown",
   "id": "6dfd8120-0472-4ac5-a7ca-a1f757b6da31",
   "metadata": {},
   "source": [
    "Although the bad rows represent a significant share of the walking patterns, they represent a very negligible share of the total patterns and thus have low computational cost. There is not many ways to improve on this filtering method, and we can see that in fact the amount of \"bad\" walking patterns with slightly too long distance is also very significant:"
   ]
  },
  {
   "cell_type": "code",
   "execution_count": 11,
   "id": "09f00332-8907-4bd6-b132-48ed48357818",
   "metadata": {},
   "outputs": [
    {
     "name": "stdout",
     "output_type": "stream",
     "text": [
      "0.6224417784050812\n",
      "0.4476010101010101\n"
     ]
    }
   ],
   "source": [
    "print(len(OD_matrix_80.loc[(OD_matrix_80['walk']==True) & (OD_matrix_80['distance'] > 2000) & (OD_matrix_80['distance'] < 2500)])/len(bad_rows_80))\n",
    "print(len(OD_matrix_81.loc[(OD_matrix_81['walk']==True) & (OD_matrix_81['distance'] > 2000) & (OD_matrix_81['distance'] < 2500)])/len(bad_rows_81))"
   ]
  },
  {
   "cell_type": "markdown",
   "id": "c940f488-b41e-43e4-8574-693288859b60",
   "metadata": {},
   "source": [
    "i.e. about half of the badly labeled walking patterns have a distance between 2 and 2.5km, which is just slightly above the intended 2km threshold."
   ]
  },
  {
   "cell_type": "markdown",
   "id": "bf3b26f8-7620-4faa-94a7-cd2b96df190e",
   "metadata": {},
   "source": [
    "## 4. Getting the Final Distance"
   ]
  },
  {
   "cell_type": "markdown",
   "id": "64fb530f-f981-48cd-a7fb-35b730cb67fa",
   "metadata": {},
   "source": [
    "The following function does the job of getting the final matrix:"
   ]
  },
  {
   "cell_type": "code",
   "execution_count": 12,
   "id": "2ac54525-3825-4cf4-86f1-e523493f9ce1",
   "metadata": {},
   "outputs": [],
   "source": [
    "def get_final_OD(fua_code, threshold=2000, number_of_cores=1):\n",
    "\n",
    "    #Get the files:\n",
    "    od_matrix = pd.read_csv('../data/d04_final-OD-matrices/naive-OD-per-FUA/'+fua_code+'_full-ODmatrix.csv')\n",
    "    drive_graph = ox.project_graph(ox.load_graphml('../data/d03_intermediate/FUA-networks/drive/'+fua_code+'.graphml'), to_crs='EPSG:5070')\n",
    "    print('  got all files')\n",
    "\n",
    "    #Get the geometries of origin and destinations:\n",
    "    places_pt = gpd.points_from_xy(x=od_matrix.longitude, y=od_matrix.latitude, crs='EPSG:4326').to_crs('EPSG:5070')\n",
    "    centroids_pt = gpd.points_from_xy(x=od_matrix.intptlon, y=od_matrix.intptlat, crs='EPSG:4326').to_crs('EPSG:5070')\n",
    "\n",
    "    od_matrix['origin_x'], od_matrix['origin_y'] = centroids_pt.x, centroids_pt.y\n",
    "    od_matrix['dest_x'], od_matrix['dest_y'] = places_pt.x, places_pt.y\n",
    "\n",
    "    #Get the rows that need reworking:\n",
    "    bad_rows = (od_matrix['walk']==True) & (od_matrix['distance'] > threshold)\n",
    "    print('  got bad rows')\n",
    "\n",
    "    #Set the Boolean value of whether we walk or drive to False in the bad rows:\n",
    "    od_matrix.loc[bad_rows, 'walk'] = False\n",
    "\n",
    "    #We do nearest nodes from OSMnx on the driving graph and the distance for those rows:\n",
    "    od_matrix.loc[bad_rows, 'origin_node'] = ox.nearest_nodes(drive_graph,\n",
    "                                                              od_matrix.loc[bad_rows, 'origin_x'], od_matrix.loc[bad_rows, 'origin_y'])\n",
    "    od_matrix.loc[bad_rows, 'destination_node'] = ox.nearest_nodes(drive_graph,\n",
    "                                                                   od_matrix.loc[bad_rows, 'dest_x'], od_matrix.loc[bad_rows, 'dest_y'])\n",
    "    od_matrix.loc[bad_rows, 'distance'] = shortest_path_distance(drive_graph,\n",
    "                                                                 od_matrix.loc[bad_rows, 'origin_node'].values, od_matrix.loc[bad_rows, 'destination_node'].values,\n",
    "                                                                 cpus=number_of_cores)\n",
    "\n",
    "    final_od_matrix = od_matrix.drop(['Unnamed: 0', 'origin_x', 'origin_y', 'dest_x', 'dest_y'], axis=1)\n",
    "    print('  got new OD matrix')\n",
    "\n",
    "    final_od_matrix.to_csv('../data/d04_final-OD-matrices/final-OD-per-FUA/' + fua_code+'_final-ODmatrix.csv')\n",
    "    print('  saved')\n",
    "    \n",
    "    return final_od_matrix"
   ]
  },
  {
   "cell_type": "markdown",
   "id": "499f2af1-a227-49b1-aab1-97b618267a50",
   "metadata": {},
   "source": [
    "Let's do it for two of our FUAs to check:"
   ]
  },
  {
   "cell_type": "code",
   "execution_count": 13,
   "id": "d81fae49-0dad-41bc-8ffa-5a54ef608550",
   "metadata": {},
   "outputs": [
    {
     "name": "stdout",
     "output_type": "stream",
     "text": [
      "  got all files\n",
      "  got bad rows\n",
      "  got new OD matrix\n",
      "  saved\n",
      "\n",
      "\n",
      "  got all files\n",
      "  got bad rows\n",
      "  got new OD matrix\n",
      "  saved\n"
     ]
    }
   ],
   "source": [
    "final_od_matrix_80 = get_final_OD('USA80')\n",
    "print('\\n')\n",
    "final_od_matrix_81 = get_final_OD('USA81')"
   ]
  },
  {
   "cell_type": "markdown",
   "id": "3d52e040-3950-4782-b922-0b89deca0f2e",
   "metadata": {},
   "source": [
    "Do they have any more bad rows?"
   ]
  },
  {
   "cell_type": "code",
   "execution_count": 14,
   "id": "a6c2cf69-f4af-4e64-b986-636cc9025a04",
   "metadata": {},
   "outputs": [],
   "source": [
    "any_bad_rows_80 = final_od_matrix_80.loc[(final_od_matrix_80['walk']==True) & (final_od_matrix_80['distance'] > 2000)]\n",
    "any_bad_rows_81 = final_od_matrix_81.loc[(final_od_matrix_81['walk']==True) & (final_od_matrix_81['distance'] > 2000)]"
   ]
  },
  {
   "cell_type": "code",
   "execution_count": 15,
   "id": "bda65f16-4796-441c-95e8-aa45f088d877",
   "metadata": {},
   "outputs": [
    {
     "data": {
      "text/html": [
       "<div>\n",
       "<style scoped>\n",
       "    .dataframe tbody tr th:only-of-type {\n",
       "        vertical-align: middle;\n",
       "    }\n",
       "\n",
       "    .dataframe tbody tr th {\n",
       "        vertical-align: top;\n",
       "    }\n",
       "\n",
       "    .dataframe thead th {\n",
       "        text-align: right;\n",
       "    }\n",
       "</style>\n",
       "<table border=\"1\" class=\"dataframe\">\n",
       "  <thead>\n",
       "    <tr style=\"text-align: right;\">\n",
       "      <th></th>\n",
       "      <th>safegraph_place_id</th>\n",
       "      <th>census_block_group</th>\n",
       "      <th>top_category</th>\n",
       "      <th>latitude</th>\n",
       "      <th>longitude</th>\n",
       "      <th>fuacode</th>\n",
       "      <th>intptlat</th>\n",
       "      <th>intptlon</th>\n",
       "      <th>walk</th>\n",
       "      <th>origin_node</th>\n",
       "      <th>destination_node</th>\n",
       "      <th>distance</th>\n",
       "    </tr>\n",
       "  </thead>\n",
       "  <tbody>\n",
       "  </tbody>\n",
       "</table>\n",
       "</div>"
      ],
      "text/plain": [
       "Empty DataFrame\n",
       "Columns: [safegraph_place_id, census_block_group, top_category, latitude, longitude, fuacode, intptlat, intptlon, walk, origin_node, destination_node, distance]\n",
       "Index: []"
      ]
     },
     "execution_count": 15,
     "metadata": {},
     "output_type": "execute_result"
    }
   ],
   "source": [
    "any_bad_rows_80"
   ]
  },
  {
   "cell_type": "code",
   "execution_count": 16,
   "id": "9966012b-e179-4a1e-a680-de1bef9a45ce",
   "metadata": {},
   "outputs": [
    {
     "data": {
      "text/html": [
       "<div>\n",
       "<style scoped>\n",
       "    .dataframe tbody tr th:only-of-type {\n",
       "        vertical-align: middle;\n",
       "    }\n",
       "\n",
       "    .dataframe tbody tr th {\n",
       "        vertical-align: top;\n",
       "    }\n",
       "\n",
       "    .dataframe thead th {\n",
       "        text-align: right;\n",
       "    }\n",
       "</style>\n",
       "<table border=\"1\" class=\"dataframe\">\n",
       "  <thead>\n",
       "    <tr style=\"text-align: right;\">\n",
       "      <th></th>\n",
       "      <th>safegraph_place_id</th>\n",
       "      <th>census_block_group</th>\n",
       "      <th>top_category</th>\n",
       "      <th>latitude</th>\n",
       "      <th>longitude</th>\n",
       "      <th>fuacode</th>\n",
       "      <th>intptlat</th>\n",
       "      <th>intptlon</th>\n",
       "      <th>walk</th>\n",
       "      <th>origin_node</th>\n",
       "      <th>destination_node</th>\n",
       "      <th>distance</th>\n",
       "    </tr>\n",
       "  </thead>\n",
       "  <tbody>\n",
       "  </tbody>\n",
       "</table>\n",
       "</div>"
      ],
      "text/plain": [
       "Empty DataFrame\n",
       "Columns: [safegraph_place_id, census_block_group, top_category, latitude, longitude, fuacode, intptlat, intptlon, walk, origin_node, destination_node, distance]\n",
       "Index: []"
      ]
     },
     "execution_count": 16,
     "metadata": {},
     "output_type": "execute_result"
    }
   ],
   "source": [
    "any_bad_rows_81"
   ]
  },
  {
   "cell_type": "code",
   "execution_count": null,
   "id": "8d6d6311-1b0d-4c2d-9db0-a83813e77823",
   "metadata": {},
   "outputs": [],
   "source": []
  }
 ],
 "metadata": {
  "kernelspec": {
   "display_name": "Python 3 (ipykernel)",
   "language": "python",
   "name": "python3"
  },
  "language_info": {
   "codemirror_mode": {
    "name": "ipython",
    "version": 3
   },
   "file_extension": ".py",
   "mimetype": "text/x-python",
   "name": "python",
   "nbconvert_exporter": "python",
   "pygments_lexer": "ipython3",
   "version": "3.9.7"
  }
 },
 "nbformat": 4,
 "nbformat_minor": 5
}
